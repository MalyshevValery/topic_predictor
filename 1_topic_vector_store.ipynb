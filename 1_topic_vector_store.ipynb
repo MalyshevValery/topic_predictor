{
 "cells": [
  {
   "cell_type": "code",
   "id": "initial_id",
   "metadata": {
    "collapsed": true,
    "ExecuteTime": {
     "end_time": "2025-10-26T12:44:30.670730Z",
     "start_time": "2025-10-26T12:44:30.668649Z"
    }
   },
   "source": [
    "import pandas as pd\n",
    "import matplotlib.pyplot as plt"
   ],
   "outputs": [],
   "execution_count": 11
  },
  {
   "metadata": {
    "ExecuteTime": {
     "end_time": "2025-10-26T12:44:32.232433Z",
     "start_time": "2025-10-26T12:44:30.680461Z"
    }
   },
   "cell_type": "code",
   "source": [
    "import os\n",
    "\n",
    "# Get token\n",
    "with open('token') as f:\n",
    "    token = f.read()\n",
    "os.environ[\"HUGGINGFACEHUB_API_TOKEN\"] = token"
   ],
   "id": "f2c4f61ff87dd324",
   "outputs": [],
   "execution_count": 12
  },
  {
   "metadata": {
    "ExecuteTime": {
     "end_time": "2025-10-26T12:44:39.404669Z",
     "start_time": "2025-10-26T12:44:32.245718Z"
    }
   },
   "cell_type": "code",
   "source": [
    "topics = pd.read_csv('data/topics.csv')\n",
    "content = pd.read_csv('data/content.csv')"
   ],
   "id": "f549444bd6a0bd0e",
   "outputs": [],
   "execution_count": 13
  },
  {
   "metadata": {},
   "cell_type": "markdown",
   "source": "## Topics",
   "id": "478a9ae3ac322645"
  },
  {
   "metadata": {
    "ExecuteTime": {
     "end_time": "2025-10-26T12:44:39.420842Z",
     "start_time": "2025-10-26T12:44:39.413602Z"
    }
   },
   "cell_type": "code",
   "source": "topics.sample(5)",
   "id": "c1c3bf144a917cfa",
   "outputs": [
    {
     "data": {
      "text/plain": [
       "                   id                                              title  \\\n",
       "35570  t_76c12b3bf8e5   Построяване на графиките на синусоидални функции   \n",
       "41858  t_8bd6243e50d0  Law of chemical equilibrium & equilibrium cons...   \n",
       "63660  t_d4ab3e41dded                                A2 Nombres relatifs   \n",
       "20430  t_44d0620c4de0                           Ions and Ionic Compounds   \n",
       "21368  t_47ff0966e8f6                         Intro to inverse functions   \n",
       "\n",
       "                                             description channel  \\\n",
       "35570  Научи как да чертаеш графиката на синусоидални...  000cf7   \n",
       "41858                                                NaN  2ee29d   \n",
       "63660                                                NaN  bfc678   \n",
       "20430                                                NaN  344113   \n",
       "21368                                                NaN  2ee29d   \n",
       "\n",
       "           category  level language          parent  has_content  \n",
       "35570        source      4       bg  t_57335e6dddbb         True  \n",
       "41858       aligned      4       en  t_59acc99f6a14         True  \n",
       "63660  supplemental      3       fr  t_d6c8a0a9feae        False  \n",
       "20430  supplemental      4       en  t_10caf4322e6a         True  \n",
       "21368       aligned      4       en  t_2f5e72034e8d         True  "
      ],
      "text/html": [
       "<div>\n",
       "<style scoped>\n",
       "    .dataframe tbody tr th:only-of-type {\n",
       "        vertical-align: middle;\n",
       "    }\n",
       "\n",
       "    .dataframe tbody tr th {\n",
       "        vertical-align: top;\n",
       "    }\n",
       "\n",
       "    .dataframe thead th {\n",
       "        text-align: right;\n",
       "    }\n",
       "</style>\n",
       "<table border=\"1\" class=\"dataframe\">\n",
       "  <thead>\n",
       "    <tr style=\"text-align: right;\">\n",
       "      <th></th>\n",
       "      <th>id</th>\n",
       "      <th>title</th>\n",
       "      <th>description</th>\n",
       "      <th>channel</th>\n",
       "      <th>category</th>\n",
       "      <th>level</th>\n",
       "      <th>language</th>\n",
       "      <th>parent</th>\n",
       "      <th>has_content</th>\n",
       "    </tr>\n",
       "  </thead>\n",
       "  <tbody>\n",
       "    <tr>\n",
       "      <th>35570</th>\n",
       "      <td>t_76c12b3bf8e5</td>\n",
       "      <td>Построяване на графиките на синусоидални функции</td>\n",
       "      <td>Научи как да чертаеш графиката на синусоидални...</td>\n",
       "      <td>000cf7</td>\n",
       "      <td>source</td>\n",
       "      <td>4</td>\n",
       "      <td>bg</td>\n",
       "      <td>t_57335e6dddbb</td>\n",
       "      <td>True</td>\n",
       "    </tr>\n",
       "    <tr>\n",
       "      <th>41858</th>\n",
       "      <td>t_8bd6243e50d0</td>\n",
       "      <td>Law of chemical equilibrium &amp; equilibrium cons...</td>\n",
       "      <td>NaN</td>\n",
       "      <td>2ee29d</td>\n",
       "      <td>aligned</td>\n",
       "      <td>4</td>\n",
       "      <td>en</td>\n",
       "      <td>t_59acc99f6a14</td>\n",
       "      <td>True</td>\n",
       "    </tr>\n",
       "    <tr>\n",
       "      <th>63660</th>\n",
       "      <td>t_d4ab3e41dded</td>\n",
       "      <td>A2 Nombres relatifs</td>\n",
       "      <td>NaN</td>\n",
       "      <td>bfc678</td>\n",
       "      <td>supplemental</td>\n",
       "      <td>3</td>\n",
       "      <td>fr</td>\n",
       "      <td>t_d6c8a0a9feae</td>\n",
       "      <td>False</td>\n",
       "    </tr>\n",
       "    <tr>\n",
       "      <th>20430</th>\n",
       "      <td>t_44d0620c4de0</td>\n",
       "      <td>Ions and Ionic Compounds</td>\n",
       "      <td>NaN</td>\n",
       "      <td>344113</td>\n",
       "      <td>supplemental</td>\n",
       "      <td>4</td>\n",
       "      <td>en</td>\n",
       "      <td>t_10caf4322e6a</td>\n",
       "      <td>True</td>\n",
       "    </tr>\n",
       "    <tr>\n",
       "      <th>21368</th>\n",
       "      <td>t_47ff0966e8f6</td>\n",
       "      <td>Intro to inverse functions</td>\n",
       "      <td>NaN</td>\n",
       "      <td>2ee29d</td>\n",
       "      <td>aligned</td>\n",
       "      <td>4</td>\n",
       "      <td>en</td>\n",
       "      <td>t_2f5e72034e8d</td>\n",
       "      <td>True</td>\n",
       "    </tr>\n",
       "  </tbody>\n",
       "</table>\n",
       "</div>"
      ]
     },
     "execution_count": 14,
     "metadata": {},
     "output_type": "execute_result"
    }
   ],
   "execution_count": 14
  },
  {
   "metadata": {
    "ExecuteTime": {
     "end_time": "2025-10-26T12:44:39.827229Z",
     "start_time": "2025-10-26T12:44:39.472635Z"
    }
   },
   "cell_type": "code",
   "source": [
    "plt.subplot(2, 1, 1)\n",
    "topics['description'][topics['description'].notna()].str.len().hist(bins=100)\n",
    "plt.subplot(2, 1, 2)\n",
    "topics['title'][topics['title'].notna()].str.len().hist(bins=100)\n",
    "plt.show()"
   ],
   "id": "8059918407027bfd",
   "outputs": [
    {
     "data": {
      "text/plain": [
       "<Figure size 640x480 with 2 Axes>"
      ],
      "image/png": "[encoded data removed]"
     },
     "metadata": {},
     "output_type": "display_data"
    }
   ],
   "execution_count": 15
  },
  {
   "metadata": {
    "ExecuteTime": {
     "end_time": "2025-10-26T12:44:40.053580Z",
     "start_time": "2025-10-26T12:44:39.847140Z"
    }
   },
   "cell_type": "code",
   "source": [
    "topics['title'] = topics['title'].fillna('')\n",
    "topics['description'] = topics['description'].fillna('')\n",
    "topics['content'] = topics['title'] + ' ' + topics['description']\n",
    "plt.subplot(2, 1, 1)\n",
    "topics['content'].str.len().hist(bins=100)\n",
    "\n",
    "plt.subplot(2, 1, 2)\n",
    "topics.loc[:, 'content'] = topics['content'].map(lambda x: x[:500])\n",
    "topics['content'].str.len().hist(bins=100)\n",
    "plt.show()\n",
    "\n",
    "topics['content'].head()"
   ],
   "id": "4a6f1a1736f62680",
   "outputs": [
    {
     "data": {
      "text/plain": [
       "<Figure size 640x480 with 2 Axes>"
      ],
      "image/png": "[encoded data removed]"
     },
     "metadata": {},
     "output_type": "display_data"
    },
    {
     "data": {
      "text/plain": [
       "0    Откриването на резисторите Изследване на матер...\n",
       "1              Unit 3.3 Enlargements and Similarities \n",
       "2    Entradas e saídas de uma função Entenda um pou...\n",
       "3                                         Transcripts \n",
       "4    Графики на експоненциални функции (Алгебра 2 н...\n",
       "Name: content, dtype: object"
      ]
     },
     "execution_count": 16,
     "metadata": {},
     "output_type": "execute_result"
    }
   ],
   "execution_count": 16
  },
  {
   "metadata": {
    "ExecuteTime": {
     "end_time": "2025-10-26T12:44:41.854685Z",
     "start_time": "2025-10-26T12:44:40.073499Z"
    }
   },
   "cell_type": "code",
   "source": [
    "from tqdm.notebook import tqdm\n",
    "from langchain_core.documents import Document\n",
    "\n",
    "documents = []\n",
    "for i, t in tqdm(topics.iterrows(), total = len(topics)):\n",
    "    metadata = {\n",
    "        'level': t['level'],\n",
    "        'parent': t['parent'],\n",
    "        'id': t['id'],\n",
    "        'has_content': t['has_content'],\n",
    "        'channel': t['channel'],\n",
    "        'language': t['language'],\n",
    "    }\n",
    "    doc = Document(t['content'], metadata=metadata)\n",
    "    documents.append(doc)"
   ],
   "id": "f1e99bef905195b2",
   "outputs": [
    {
     "data": {
      "text/plain": [
       "  0%|          | 0/76972 [00:00<?, ?it/s]"
      ],
      "application/vnd.jupyter.widget-view+json": {
       "version_major": 2,
       "version_minor": 0,
       "model_id": "38d27d3eb6084ca4acfb443a26f9d129"
      }
     },
     "metadata": {},
     "output_type": "display_data"
    }
   ],
   "execution_count": 17
  },
  {
   "metadata": {
    "ExecuteTime": {
     "end_time": "2025-10-26T12:44:41.875757Z",
     "start_time": "2025-10-26T12:44:41.873344Z"
    }
   },
   "cell_type": "code",
   "source": [
    "from langchain_huggingface import HuggingFaceEndpointEmbeddings\n",
    "\n",
    "embeddings = HuggingFaceEndpointEmbeddings(\n",
    "   model=\"Qwen/Qwen3-Embedding-8B\",\n",
    "   task=\"feature-extraction\",\n",
    ")"
   ],
   "id": "f41da17bb47ed05e",
   "outputs": [],
   "execution_count": 18
  },
  {
   "metadata": {
    "ExecuteTime": {
     "end_time": "2025-10-26T12:44:41.944892Z",
     "start_time": "2025-10-26T12:44:41.899320Z"
    }
   },
   "cell_type": "code",
   "source": [
    "from langchain_chroma import Chroma\n",
    "\n",
    "vector_store = Chroma(\n",
    "    collection_name=\"topics\",\n",
    "    embedding_function=embeddings,\n",
    "    persist_directory=\"data/vector_store\",\n",
    ")"
   ],
   "id": "aca1dcef6c3089e4",
   "outputs": [],
   "execution_count": 19
  },
  {
   "metadata": {
    "ExecuteTime": {
     "end_time": "2025-10-26T13:30:40.766028Z",
     "start_time": "2025-10-26T12:44:41.949571Z"
    }
   },
   "cell_type": "code",
   "source": [
    "batch_size = 100\n",
    "for i in tqdm(range(0, len(documents), batch_size)):\n",
    "    vector_store.add_documents(documents[i:i+batch_size])"
   ],
   "id": "8f95ca54c12b85f8",
   "outputs": [
    {
     "data": {
      "text/plain": [
       "  0%|          | 0/770 [00:00<?, ?it/s]"
      ],
      "application/vnd.jupyter.widget-view+json": {
       "version_major": 2,
       "version_minor": 0,
       "model_id": "afe3135430c24bc6b444ce71c21583f8"
      }
     },
     "metadata": {},
     "output_type": "display_data"
    }
   ],
   "execution_count": 20
  },
  {
   "metadata": {
    "ExecuteTime": {
     "end_time": "2025-10-26T13:33:48.265004Z",
     "start_time": "2025-10-26T13:33:48.254375Z"
    }
   },
   "cell_type": "code",
   "source": "retriever = vector_store.as_retriever()",
   "id": "9a5d0b65d9498715",
   "outputs": [],
   "execution_count": 21
  },
  {
   "metadata": {
    "ExecuteTime": {
     "end_time": "2025-10-26T13:33:55.551840Z",
     "start_time": "2025-10-26T13:33:54.665930Z"
    }
   },
   "cell_type": "code",
   "source": "retriever.invoke('Resistors')",
   "id": "27b9d7cbaf44bd17",
   "outputs": [
    {
     "data": {
      "text/plain": [
       "[Document(id='a419a411-7ec4-49f3-8004-d4fa2e4dee6e', metadata={'level': 4, 'channel': 'fef095', 'id': 't_bd904a5949a5', 'has_content': True, 'parent': 't_2a485eeebef7'}, page_content='Resistor Circuits '),\n",
       " Document(id='543dd4ed-a18b-438c-9c16-bae18f9dd1ee', metadata={'parent': 't_326445511afc', 'id': 't_60622f4a2f4a', 'channel': '344113', 'has_content': True, 'level': 3}, page_content='Resistor circuits '),\n",
       " Document(id='87b52dd2-22f2-4fad-9767-b168a1555df3', metadata={'parent': 't_8fb9fc6396c4', 'channel': '344113', 'has_content': True, 'level': 5, 'id': 't_0431d2e6418a'}, page_content='Resistors in Series '),\n",
       " Document(id='efd7a27e-1a2e-4d24-9791-5629e22ecf53', metadata={'id': 't_8fab1f793a8a', 'has_content': True, 'level': 4, 'channel': 'fef095', 'parent': 't_2a485eeebef7'}, page_content='Resistors in Series ')]"
      ]
     },
     "execution_count": 22,
     "metadata": {},
     "output_type": "execute_result"
    }
   ],
   "execution_count": 22
  }
 ],
 "metadata": {
  "kernelspec": {
   "display_name": "Python 3",
   "language": "python",
   "name": "python3"
  },
  "language_info": {
   "codemirror_mode": {
    "name": "ipython",
    "version": 2
   },
   "file_extension": ".py",
   "mimetype": "text/x-python",
   "name": "python",
   "nbconvert_exporter": "python",
   "pygments_lexer": "ipython2",
   "version": "2.7.6"
  }
 },
 "nbformat": 4,
 "nbformat_minor": 5
}
