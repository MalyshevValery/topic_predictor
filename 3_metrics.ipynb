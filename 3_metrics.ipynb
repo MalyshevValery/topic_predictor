{
 "cells": [
  {
   "cell_type": "code",
   "id": "initial_id",
   "metadata": {
    "collapsed": true,
    "ExecuteTime": {
     "end_time": "2025-10-28T23:10:13.352767Z",
     "start_time": "2025-10-28T23:10:13.349945Z"
    }
   },
   "source": [
    "from statistics import correlation\n",
    "\n",
    "import pandas as pd\n",
    "import numpy as np\n",
    "import matplotlib.pyplot as plt\n",
    "from sklearn.metrics import classification_report"
   ],
   "outputs": [],
   "execution_count": 39
  },
  {
   "metadata": {},
   "cell_type": "markdown",
   "source": [
    "## Metrics to use\n",
    "Separate metrics into top 1 and top 5 category\n",
    "Calculate accuracy precision and recall for both categories. Also add F1 score"
   ],
   "id": "b0f26eb0a40bd22b"
  },
  {
   "metadata": {
    "ExecuteTime": {
     "end_time": "2025-10-28T23:10:13.434270Z",
     "start_time": "2025-10-28T23:10:13.379755Z"
    }
   },
   "cell_type": "code",
   "source": [
    "pred_df = pd.read_csv('data/pred_results.csv')\n",
    "correlations = pd.read_csv('data/correlations.csv')"
   ],
   "id": "1233707f203311f3",
   "outputs": [],
   "execution_count": 40
  },
  {
   "metadata": {
    "ExecuteTime": {
     "end_time": "2025-10-28T23:10:14.423951Z",
     "start_time": "2025-10-28T23:10:13.437277Z"
    }
   },
   "cell_type": "code",
   "source": [
    "content_to_topic = {'content_id': [], 'topic_id': []}\n",
    "for i, row in correlations.iterrows():\n",
    "    for content_id in row['content_ids'].split(' '):\n",
    "        content_to_topic['content_id'].append(content_id)\n",
    "        content_to_topic['topic_id'].append(row['topic_id'])\n",
    "content_to_topic = pd.DataFrame(content_to_topic)\n",
    "content_to_topic = content_to_topic[content_to_topic['content_id'].isin(pred_df['content_id'])]"
   ],
   "id": "90f75d6c4929875",
   "outputs": [],
   "execution_count": 41
  },
  {
   "metadata": {
    "ExecuteTime": {
     "end_time": "2025-10-28T23:10:14.438948Z",
     "start_time": "2025-10-28T23:10:14.432671Z"
    }
   },
   "cell_type": "code",
   "source": [
    "pred_df = pred_df.set_index(['topic_id', 'content_id'])\n",
    "content_to_topic['label'] = 1\n",
    "content_to_topic = content_to_topic.set_index(['topic_id', 'content_id'])"
   ],
   "id": "fb01a35ddf369e60",
   "outputs": [],
   "execution_count": 42
  },
  {
   "metadata": {},
   "cell_type": "markdown",
   "source": "## TOP 1",
   "id": "e403dcbbb40cf11e"
  },
  {
   "metadata": {
    "ExecuteTime": {
     "end_time": "2025-10-28T23:10:14.451815Z",
     "start_time": "2025-10-28T23:10:14.447659Z"
    }
   },
   "cell_type": "code",
   "source": "content_to_topic.reset_index()['content_id'].value_counts()",
   "id": "fc321e94b0f2e530",
   "outputs": [
    {
     "data": {
      "text/plain": [
       "content_id\n",
       "c_8ad113a7a801    24\n",
       "c_15a634632521    14\n",
       "c_04fbee306e50    13\n",
       "c_b4429618cba1    13\n",
       "c_76a17cfb9d87    12\n",
       "                  ..\n",
       "c_a662335f86a4     1\n",
       "c_e28009ea492f     1\n",
       "c_c733b0afd4f8     1\n",
       "c_9022950ceacc     1\n",
       "c_10157e74fc3a     1\n",
       "Name: count, Length: 1000, dtype: int64"
      ]
     },
     "execution_count": 43,
     "metadata": {},
     "output_type": "execute_result"
    }
   ],
   "execution_count": 43
  },
  {
   "metadata": {
    "ExecuteTime": {
     "end_time": "2025-10-28T23:10:14.485597Z",
     "start_time": "2025-10-28T23:10:14.475619Z"
    }
   },
   "cell_type": "code",
   "source": [
    "top_1 = pred_df.reset_index().groupby('content_id')['topic_id'].first()\n",
    "joined = content_to_topic.join(top_1, on=['content_id',], how='left')\n",
    "joined = joined.rename(columns={'topic_id': 'pred_topic'})\n",
    "joined = joined.reset_index()\n",
    "joined['label'] = (joined['topic_id'] == joined['pred_topic']) * 1.0\n",
    "\n",
    "top1_acc = (joined.groupby('content_id')['label'].mean() > 0).mean()\n",
    "print('Top 1 Accuracy', top1_acc)\n",
    "random_prec = (content_to_topic.groupby('content_id')['label'].count() / len(correlations)).mean()\n",
    "print('Random accuracy (baseline)', random_prec)"
   ],
   "id": "e560562415da6161",
   "outputs": [
    {
     "name": "stdout",
     "output_type": "stream",
     "text": [
      "Top 1 Accuracy 0.232\n",
      "Random accuracy (baseline) 2.9617829217939747e-05\n"
     ]
    }
   ],
   "execution_count": 44
  },
  {
   "metadata": {},
   "cell_type": "markdown",
   "source": "## TOP 5 metrics against all topic content",
   "id": "7c00fe821dc41a13"
  },
  {
   "metadata": {
    "ExecuteTime": {
     "end_time": "2025-10-28T23:10:14.656451Z",
     "start_time": "2025-10-28T23:10:14.651726Z"
    }
   },
   "cell_type": "code",
   "source": [
    "true = content_to_topic.index\n",
    "pred = pred_df.index\n",
    "recall = true.isin(pred).mean()\n",
    "precision = pred.isin(true).mean()\n",
    "f1 = 2 * precision * recall / (precision + recall)\n",
    "print('Global metrics')\n",
    "print('Recall:', recall)\n",
    "print('Precision:', precision)\n",
    "print('F1:', f1)"
   ],
   "id": "62124cd568c89b4e",
   "outputs": [
    {
     "name": "stdout",
     "output_type": "stream",
     "text": [
      "Global metrics\n",
      "Recall: 0.2650933040614709\n",
      "Precision: 0.0966\n",
      "F1: 0.14160070360598065\n"
     ]
    }
   ],
   "execution_count": 47
  }
 ],
 "metadata": {
  "kernelspec": {
   "display_name": "Python 3",
   "language": "python",
   "name": "python3"
  },
  "language_info": {
   "codemirror_mode": {
    "name": "ipython",
    "version": 2
   },
   "file_extension": ".py",
   "mimetype": "text/x-python",
   "name": "python",
   "nbconvert_exporter": "python",
   "pygments_lexer": "ipython2",
   "version": "2.7.6"
  }
 },
 "nbformat": 4,
 "nbformat_minor": 5
}
