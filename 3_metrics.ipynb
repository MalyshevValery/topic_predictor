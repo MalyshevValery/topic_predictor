{
 "cells": [
  {
   "cell_type": "code",
   "id": "initial_id",
   "metadata": {
    "collapsed": true,
    "ExecuteTime": {
     "end_time": "2025-10-28T23:02:26.367180Z",
     "start_time": "2025-10-28T23:02:26.364897Z"
    }
   },
   "source": [
    "from statistics import correlation\n",
    "\n",
    "import pandas as pd\n",
    "import numpy as np\n",
    "import matplotlib.pyplot as plt\n",
    "from sklearn.metrics import classification_report"
   ],
   "outputs": [],
   "execution_count": 29
  },
  {
   "metadata": {},
   "cell_type": "markdown",
   "source": [
    "## Metrics to use\n",
    "Separate metrics into top 1 and top 5 category\n",
    "Calculate accuracy precision and recall for both categories. Also add F1 score"
   ],
   "id": "b0f26eb0a40bd22b"
  },
  {
   "metadata": {
    "ExecuteTime": {
     "end_time": "2025-10-28T23:02:26.426316Z",
     "start_time": "2025-10-28T23:02:26.371973Z"
    }
   },
   "cell_type": "code",
   "source": [
    "pred_df = pd.read_csv('data/pred_results.csv')\n",
    "correlations = pd.read_csv('data/correlations.csv')"
   ],
   "id": "1233707f203311f3",
   "outputs": [],
   "execution_count": 30
  },
  {
   "metadata": {
    "ExecuteTime": {
     "end_time": "2025-10-28T23:02:27.396200Z",
     "start_time": "2025-10-28T23:02:26.435844Z"
    }
   },
   "cell_type": "code",
   "source": [
    "content_to_topic = {'content_id': [], 'topic_id': []}\n",
    "for i, row in correlations.iterrows():\n",
    "    for content_id in row['content_ids'].split(' '):\n",
    "        content_to_topic['content_id'].append(content_id)\n",
    "        content_to_topic['topic_id'].append(row['topic_id'])\n",
    "content_to_topic = pd.DataFrame(content_to_topic)\n",
    "content_to_topic = content_to_topic[content_to_topic['content_id'].isin(pred_df['content_id'])]"
   ],
   "id": "90f75d6c4929875",
   "outputs": [],
   "execution_count": 31
  },
  {
   "metadata": {
    "ExecuteTime": {
     "end_time": "2025-10-28T23:02:27.412637Z",
     "start_time": "2025-10-28T23:02:27.406036Z"
    }
   },
   "cell_type": "code",
   "source": [
    "pred_df = pred_df.set_index(['topic_id', 'content_id'])\n",
    "content_to_topic['label'] = 1\n",
    "content_to_topic = content_to_topic.set_index(['topic_id', 'content_id'])"
   ],
   "id": "fb01a35ddf369e60",
   "outputs": [],
   "execution_count": 32
  },
  {
   "metadata": {},
   "cell_type": "markdown",
   "source": "## TOP 1",
   "id": "e403dcbbb40cf11e"
  },
  {
   "metadata": {
    "ExecuteTime": {
     "end_time": "2025-10-28T23:02:27.426060Z",
     "start_time": "2025-10-28T23:02:27.421657Z"
    }
   },
   "cell_type": "code",
   "source": "content_to_topic.reset_index()['content_id'].value_counts()",
   "id": "fc321e94b0f2e530",
   "outputs": [
    {
     "data": {
      "text/plain": [
       "content_id\n",
       "c_8ad113a7a801    24\n",
       "c_15a634632521    14\n",
       "c_04fbee306e50    13\n",
       "c_b4429618cba1    13\n",
       "c_76a17cfb9d87    12\n",
       "                  ..\n",
       "c_a662335f86a4     1\n",
       "c_e28009ea492f     1\n",
       "c_c733b0afd4f8     1\n",
       "c_9022950ceacc     1\n",
       "c_10157e74fc3a     1\n",
       "Name: count, Length: 1000, dtype: int64"
      ]
     },
     "execution_count": 33,
     "metadata": {},
     "output_type": "execute_result"
    }
   ],
   "execution_count": 33
  },
  {
   "metadata": {
    "ExecuteTime": {
     "end_time": "2025-10-28T23:02:27.465010Z",
     "start_time": "2025-10-28T23:02:27.454676Z"
    }
   },
   "cell_type": "code",
   "source": [
    "top_1 = pred_df.reset_index().groupby('content_id')['topic_id'].first()\n",
    "joined = content_to_topic.join(top_1, on=['content_id',], how='left')\n",
    "joined = joined.rename(columns={'topic_id': 'pred_topic'})\n",
    "joined = joined.reset_index()\n",
    "joined['label'] = (joined['topic_id'] == joined['pred_topic']) * 1.0\n",
    "\n",
    "top1_prec = (joined.groupby('content_id')['label'].mean() > 0).mean()\n",
    "print('Top 1 Precision', top1_prec) # No point in recall as we predict only 1 topic.\n",
    "random_prec = (content_to_topic.groupby('content_id')['label'].count() / len(correlations)).mean()\n",
    "print('Random precision (baseline)', random_prec)\n",
    "#"
   ],
   "id": "e560562415da6161",
   "outputs": [
    {
     "name": "stdout",
     "output_type": "stream",
     "text": [
      "Top 1 Precision 0.232\n",
      "Random precision (baseline) 2.9617829217939747e-05\n"
     ]
    }
   ],
   "execution_count": 34
  },
  {
   "metadata": {},
   "cell_type": "markdown",
   "source": "## TOP 5 metrics against all topic content",
   "id": "7c00fe821dc41a13"
  },
  {
   "metadata": {
    "ExecuteTime": {
     "end_time": "2025-10-28T23:02:27.495772Z",
     "start_time": "2025-10-28T23:02:27.489157Z"
    }
   },
   "cell_type": "code",
   "source": "pred_df",
   "id": "366156e71c294891",
   "outputs": [
    {
     "data": {
      "text/plain": [
       "                                                                        title  \\\n",
       "topic_id       content_id                                                       \n",
       "t_107d6bc83f12 c_fae000af5570                             Work-energy theorem   \n",
       "t_1379f1d82041 c_fae000af5570                             Work-energy theorem   \n",
       "t_5de671c07375 c_fae000af5570                         4.2 Work-energy theorem   \n",
       "t_a57df0b7f393 c_fae000af5570                     Work-energy theorem (Hindi)   \n",
       "t_c899a3e24e42 c_fae000af5570  5.3 kinetic energy and the work Energy theorem   \n",
       "...                                                                       ...   \n",
       "t_dc8fe1fdb261 c_e97b2c4973ed                                Cognitive Biases   \n",
       "t_6b4b78e932ca c_e97b2c4973ed                       Reducing Bias in Sampling   \n",
       "t_b7f1fbdec838 c_e97b2c4973ed                                 8: Optimization   \n",
       "t_4213f7fa5331 c_e97b2c4973ed      Positive Attitudes: Rights and Obligations   \n",
       "t_188448c31355 c_e97b2c4973ed                               Sampling and Bias   \n",
       "\n",
       "                                   description channel      category  level  \\\n",
       "topic_id       content_id                                                     \n",
       "t_107d6bc83f12 c_fae000af5570              NaN  0ec697        source      4   \n",
       "t_1379f1d82041 c_fae000af5570              NaN  2ee29d       aligned      4   \n",
       "t_5de671c07375 c_fae000af5570              NaN  e77b55       aligned      4   \n",
       "t_a57df0b7f393 c_fae000af5570              NaN  2ee29d       aligned      4   \n",
       "t_c899a3e24e42 c_fae000af5570              NaN  e77b55       aligned      4   \n",
       "...                                        ...     ...           ...    ...   \n",
       "t_dc8fe1fdb261 c_e97b2c4973ed              NaN  8ca895        source      1   \n",
       "t_6b4b78e932ca c_e97b2c4973ed              NaN  fef095        source      4   \n",
       "t_b7f1fbdec838 c_e97b2c4973ed  8: Optimization  88c9d6  supplemental      4   \n",
       "t_4213f7fa5331 c_e97b2c4973ed              NaN  bae253  supplemental      2   \n",
       "t_188448c31355 c_e97b2c4973ed              NaN  fef095        source      4   \n",
       "\n",
       "                              language          parent  has_content  score  \n",
       "topic_id       content_id                                                   \n",
       "t_107d6bc83f12 c_fae000af5570       en  t_48cea89450d0         True      5  \n",
       "t_1379f1d82041 c_fae000af5570       en  t_532cdfa2085c         True      4  \n",
       "t_5de671c07375 c_fae000af5570       en  t_45dbcf35a31b         True      3  \n",
       "t_a57df0b7f393 c_fae000af5570       en  t_38dd668b2752         True      2  \n",
       "t_c899a3e24e42 c_fae000af5570       en  t_2f20cf4e8f05         True      1  \n",
       "...                                ...             ...          ...    ...  \n",
       "t_dc8fe1fdb261 c_e97b2c4973ed       en  t_37f833079be5         True      5  \n",
       "t_6b4b78e932ca c_e97b2c4973ed       en  t_17b5a2cc59de         True      4  \n",
       "t_b7f1fbdec838 c_e97b2c4973ed       en  t_5308c71c9239         True      3  \n",
       "t_4213f7fa5331 c_e97b2c4973ed       en  t_2a7d947c6b95         True      2  \n",
       "t_188448c31355 c_e97b2c4973ed       en  t_17b5a2cc59de         True      1  \n",
       "\n",
       "[5000 rows x 9 columns]"
      ],
      "text/html": [
       "<div>\n",
       "<style scoped>\n",
       "    .dataframe tbody tr th:only-of-type {\n",
       "        vertical-align: middle;\n",
       "    }\n",
       "\n",
       "    .dataframe tbody tr th {\n",
       "        vertical-align: top;\n",
       "    }\n",
       "\n",
       "    .dataframe thead th {\n",
       "        text-align: right;\n",
       "    }\n",
       "</style>\n",
       "<table border=\"1\" class=\"dataframe\">\n",
       "  <thead>\n",
       "    <tr style=\"text-align: right;\">\n",
       "      <th></th>\n",
       "      <th></th>\n",
       "      <th>title</th>\n",
       "      <th>description</th>\n",
       "      <th>channel</th>\n",
       "      <th>category</th>\n",
       "      <th>level</th>\n",
       "      <th>language</th>\n",
       "      <th>parent</th>\n",
       "      <th>has_content</th>\n",
       "      <th>score</th>\n",
       "    </tr>\n",
       "    <tr>\n",
       "      <th>topic_id</th>\n",
       "      <th>content_id</th>\n",
       "      <th></th>\n",
       "      <th></th>\n",
       "      <th></th>\n",
       "      <th></th>\n",
       "      <th></th>\n",
       "      <th></th>\n",
       "      <th></th>\n",
       "      <th></th>\n",
       "      <th></th>\n",
       "    </tr>\n",
       "  </thead>\n",
       "  <tbody>\n",
       "    <tr>\n",
       "      <th>t_107d6bc83f12</th>\n",
       "      <th>c_fae000af5570</th>\n",
       "      <td>Work-energy theorem</td>\n",
       "      <td>NaN</td>\n",
       "      <td>0ec697</td>\n",
       "      <td>source</td>\n",
       "      <td>4</td>\n",
       "      <td>en</td>\n",
       "      <td>t_48cea89450d0</td>\n",
       "      <td>True</td>\n",
       "      <td>5</td>\n",
       "    </tr>\n",
       "    <tr>\n",
       "      <th>t_1379f1d82041</th>\n",
       "      <th>c_fae000af5570</th>\n",
       "      <td>Work-energy theorem</td>\n",
       "      <td>NaN</td>\n",
       "      <td>2ee29d</td>\n",
       "      <td>aligned</td>\n",
       "      <td>4</td>\n",
       "      <td>en</td>\n",
       "      <td>t_532cdfa2085c</td>\n",
       "      <td>True</td>\n",
       "      <td>4</td>\n",
       "    </tr>\n",
       "    <tr>\n",
       "      <th>t_5de671c07375</th>\n",
       "      <th>c_fae000af5570</th>\n",
       "      <td>4.2 Work-energy theorem</td>\n",
       "      <td>NaN</td>\n",
       "      <td>e77b55</td>\n",
       "      <td>aligned</td>\n",
       "      <td>4</td>\n",
       "      <td>en</td>\n",
       "      <td>t_45dbcf35a31b</td>\n",
       "      <td>True</td>\n",
       "      <td>3</td>\n",
       "    </tr>\n",
       "    <tr>\n",
       "      <th>t_a57df0b7f393</th>\n",
       "      <th>c_fae000af5570</th>\n",
       "      <td>Work-energy theorem (Hindi)</td>\n",
       "      <td>NaN</td>\n",
       "      <td>2ee29d</td>\n",
       "      <td>aligned</td>\n",
       "      <td>4</td>\n",
       "      <td>en</td>\n",
       "      <td>t_38dd668b2752</td>\n",
       "      <td>True</td>\n",
       "      <td>2</td>\n",
       "    </tr>\n",
       "    <tr>\n",
       "      <th>t_c899a3e24e42</th>\n",
       "      <th>c_fae000af5570</th>\n",
       "      <td>5.3 kinetic energy and the work Energy theorem</td>\n",
       "      <td>NaN</td>\n",
       "      <td>e77b55</td>\n",
       "      <td>aligned</td>\n",
       "      <td>4</td>\n",
       "      <td>en</td>\n",
       "      <td>t_2f20cf4e8f05</td>\n",
       "      <td>True</td>\n",
       "      <td>1</td>\n",
       "    </tr>\n",
       "    <tr>\n",
       "      <th>...</th>\n",
       "      <th>...</th>\n",
       "      <td>...</td>\n",
       "      <td>...</td>\n",
       "      <td>...</td>\n",
       "      <td>...</td>\n",
       "      <td>...</td>\n",
       "      <td>...</td>\n",
       "      <td>...</td>\n",
       "      <td>...</td>\n",
       "      <td>...</td>\n",
       "    </tr>\n",
       "    <tr>\n",
       "      <th>t_dc8fe1fdb261</th>\n",
       "      <th>c_e97b2c4973ed</th>\n",
       "      <td>Cognitive Biases</td>\n",
       "      <td>NaN</td>\n",
       "      <td>8ca895</td>\n",
       "      <td>source</td>\n",
       "      <td>1</td>\n",
       "      <td>en</td>\n",
       "      <td>t_37f833079be5</td>\n",
       "      <td>True</td>\n",
       "      <td>5</td>\n",
       "    </tr>\n",
       "    <tr>\n",
       "      <th>t_6b4b78e932ca</th>\n",
       "      <th>c_e97b2c4973ed</th>\n",
       "      <td>Reducing Bias in Sampling</td>\n",
       "      <td>NaN</td>\n",
       "      <td>fef095</td>\n",
       "      <td>source</td>\n",
       "      <td>4</td>\n",
       "      <td>en</td>\n",
       "      <td>t_17b5a2cc59de</td>\n",
       "      <td>True</td>\n",
       "      <td>4</td>\n",
       "    </tr>\n",
       "    <tr>\n",
       "      <th>t_b7f1fbdec838</th>\n",
       "      <th>c_e97b2c4973ed</th>\n",
       "      <td>8: Optimization</td>\n",
       "      <td>8: Optimization</td>\n",
       "      <td>88c9d6</td>\n",
       "      <td>supplemental</td>\n",
       "      <td>4</td>\n",
       "      <td>en</td>\n",
       "      <td>t_5308c71c9239</td>\n",
       "      <td>True</td>\n",
       "      <td>3</td>\n",
       "    </tr>\n",
       "    <tr>\n",
       "      <th>t_4213f7fa5331</th>\n",
       "      <th>c_e97b2c4973ed</th>\n",
       "      <td>Positive Attitudes: Rights and Obligations</td>\n",
       "      <td>NaN</td>\n",
       "      <td>bae253</td>\n",
       "      <td>supplemental</td>\n",
       "      <td>2</td>\n",
       "      <td>en</td>\n",
       "      <td>t_2a7d947c6b95</td>\n",
       "      <td>True</td>\n",
       "      <td>2</td>\n",
       "    </tr>\n",
       "    <tr>\n",
       "      <th>t_188448c31355</th>\n",
       "      <th>c_e97b2c4973ed</th>\n",
       "      <td>Sampling and Bias</td>\n",
       "      <td>NaN</td>\n",
       "      <td>fef095</td>\n",
       "      <td>source</td>\n",
       "      <td>4</td>\n",
       "      <td>en</td>\n",
       "      <td>t_17b5a2cc59de</td>\n",
       "      <td>True</td>\n",
       "      <td>1</td>\n",
       "    </tr>\n",
       "  </tbody>\n",
       "</table>\n",
       "<p>5000 rows × 9 columns</p>\n",
       "</div>"
      ]
     },
     "execution_count": 35,
     "metadata": {},
     "output_type": "execute_result"
    }
   ],
   "execution_count": 35
  },
  {
   "metadata": {
    "ExecuteTime": {
     "end_time": "2025-10-28T23:02:27.550351Z",
     "start_time": "2025-10-28T23:02:27.545823Z"
    }
   },
   "cell_type": "code",
   "source": "content_to_topic",
   "id": "c559713c47ed0071",
   "outputs": [
    {
     "data": {
      "text/plain": [
       "                               label\n",
       "topic_id       content_id           \n",
       "t_000d1fb3f2f5 c_76a17cfb9d87      1\n",
       "t_002ff3ee9cb1 c_f87ca039ff13      1\n",
       "t_00910415ee1a c_b4429618cba1      1\n",
       "t_00ce57bb6240 c_42575fcc21f2      1\n",
       "t_00f9a52a69aa c_10157e74fc3a      1\n",
       "...                              ...\n",
       "t_ff8213583bd0 c_668a9ffa7fad      1\n",
       "t_ff86e0122954 c_ad2699e9a45a      1\n",
       "t_ff87307291b6 c_1cf57eff18f1      1\n",
       "t_ff9237c2cbaa c_c6a0dea8557e      1\n",
       "t_ffe2867bef4c c_574bd4d9dc45      1\n",
       "\n",
       "[1822 rows x 1 columns]"
      ],
      "text/html": [
       "<div>\n",
       "<style scoped>\n",
       "    .dataframe tbody tr th:only-of-type {\n",
       "        vertical-align: middle;\n",
       "    }\n",
       "\n",
       "    .dataframe tbody tr th {\n",
       "        vertical-align: top;\n",
       "    }\n",
       "\n",
       "    .dataframe thead th {\n",
       "        text-align: right;\n",
       "    }\n",
       "</style>\n",
       "<table border=\"1\" class=\"dataframe\">\n",
       "  <thead>\n",
       "    <tr style=\"text-align: right;\">\n",
       "      <th></th>\n",
       "      <th></th>\n",
       "      <th>label</th>\n",
       "    </tr>\n",
       "    <tr>\n",
       "      <th>topic_id</th>\n",
       "      <th>content_id</th>\n",
       "      <th></th>\n",
       "    </tr>\n",
       "  </thead>\n",
       "  <tbody>\n",
       "    <tr>\n",
       "      <th>t_000d1fb3f2f5</th>\n",
       "      <th>c_76a17cfb9d87</th>\n",
       "      <td>1</td>\n",
       "    </tr>\n",
       "    <tr>\n",
       "      <th>t_002ff3ee9cb1</th>\n",
       "      <th>c_f87ca039ff13</th>\n",
       "      <td>1</td>\n",
       "    </tr>\n",
       "    <tr>\n",
       "      <th>t_00910415ee1a</th>\n",
       "      <th>c_b4429618cba1</th>\n",
       "      <td>1</td>\n",
       "    </tr>\n",
       "    <tr>\n",
       "      <th>t_00ce57bb6240</th>\n",
       "      <th>c_42575fcc21f2</th>\n",
       "      <td>1</td>\n",
       "    </tr>\n",
       "    <tr>\n",
       "      <th>t_00f9a52a69aa</th>\n",
       "      <th>c_10157e74fc3a</th>\n",
       "      <td>1</td>\n",
       "    </tr>\n",
       "    <tr>\n",
       "      <th>...</th>\n",
       "      <th>...</th>\n",
       "      <td>...</td>\n",
       "    </tr>\n",
       "    <tr>\n",
       "      <th>t_ff8213583bd0</th>\n",
       "      <th>c_668a9ffa7fad</th>\n",
       "      <td>1</td>\n",
       "    </tr>\n",
       "    <tr>\n",
       "      <th>t_ff86e0122954</th>\n",
       "      <th>c_ad2699e9a45a</th>\n",
       "      <td>1</td>\n",
       "    </tr>\n",
       "    <tr>\n",
       "      <th>t_ff87307291b6</th>\n",
       "      <th>c_1cf57eff18f1</th>\n",
       "      <td>1</td>\n",
       "    </tr>\n",
       "    <tr>\n",
       "      <th>t_ff9237c2cbaa</th>\n",
       "      <th>c_c6a0dea8557e</th>\n",
       "      <td>1</td>\n",
       "    </tr>\n",
       "    <tr>\n",
       "      <th>t_ffe2867bef4c</th>\n",
       "      <th>c_574bd4d9dc45</th>\n",
       "      <td>1</td>\n",
       "    </tr>\n",
       "  </tbody>\n",
       "</table>\n",
       "<p>1822 rows × 1 columns</p>\n",
       "</div>"
      ]
     },
     "execution_count": 36,
     "metadata": {},
     "output_type": "execute_result"
    }
   ],
   "execution_count": 36
  },
  {
   "metadata": {
    "ExecuteTime": {
     "end_time": "2025-10-28T23:02:27.601800Z",
     "start_time": "2025-10-28T23:02:27.600033Z"
    }
   },
   "cell_type": "code",
   "source": "",
   "id": "9e389fd3edc7d6d",
   "outputs": [],
   "execution_count": null
  },
  {
   "metadata": {
    "ExecuteTime": {
     "end_time": "2025-10-28T23:02:27.650755Z",
     "start_time": "2025-10-28T23:02:27.646358Z"
    }
   },
   "cell_type": "code",
   "source": [
    "from sklearn.metrics import classification_report\n",
    "\n",
    "true = content_to_topic.index\n",
    "pred = pred_df.index\n",
    "recall = true.isin(pred).mean()\n",
    "precision = pred.isin(true).mean()\n",
    "f1 = 2 * precision * recall / (precision + recall)\n",
    "print('Global metrics')\n",
    "print('Recall:', recall)\n",
    "print('Precision:', precision)\n",
    "print('F1:', f1)"
   ],
   "id": "62124cd568c89b4e",
   "outputs": [
    {
     "name": "stdout",
     "output_type": "stream",
     "text": [
      "Global metrics\n",
      "Recall: 0.2650933040614709\n",
      "Precision: 0.0966\n",
      "F1: 0.14160070360598065\n"
     ]
    }
   ],
   "execution_count": 37
  }
 ],
 "metadata": {
  "kernelspec": {
   "display_name": "Python 3",
   "language": "python",
   "name": "python3"
  },
  "language_info": {
   "codemirror_mode": {
    "name": "ipython",
    "version": 2
   },
   "file_extension": ".py",
   "mimetype": "text/x-python",
   "name": "python",
   "nbconvert_exporter": "python",
   "pygments_lexer": "ipython2",
   "version": "2.7.6"
  }
 },
 "nbformat": 4,
 "nbformat_minor": 5
}
